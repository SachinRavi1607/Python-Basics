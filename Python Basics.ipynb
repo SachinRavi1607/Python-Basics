{
 "cells": [
  {
   "cell_type": "code",
   "execution_count": null,
   "metadata": {},
   "outputs": [],
   "source": [
    "#PROBLEM 1\n",
    "x=int(input(\"Enter an integer\"))\n",
    "y=input(\"Enter a string\")\n",
    "z=input(\"enter only one character\")[0]"
   ]
  },
  {
   "cell_type": "code",
   "execution_count": null,
   "metadata": {},
   "outputs": [],
   "source": [
    "ang1=int(input(\"Enter the first angle of a triangle\"))\n",
    "ang2=int(input(\"Enter the second angle of a triangle\"))\n",
    "ang3=int(input(\"Enter the third angle of the traingle\"))\n",
    "\n",
    "if(ang1+ang2+ang3!=180):\n",
    "    print(\"The triangle cannot be formed\")\n",
    "\n",
    "else:\n",
    "    print(\"the triangle can be formed\")"
   ]
  },
  {
   "cell_type": "code",
   "execution_count": null,
   "metadata": {},
   "outputs": [],
   "source": [
    "Grade=int(input(\"enter the grade\"))\n",
    "if(Grade >=90):\n",
    "    print(\"Grade A\")\n",
    "elif(Grade>=80):\n",
    "    print(\"Grade B\")\n",
    "elif(Grade>=60):\n",
    "    print(\"Grade C\")\n",
    "elif(Grade>=35):\n",
    "    print(\"Grade D\")\n",
    "else:\n",
    "    print(\"Fail\")"
   ]
  },
  {
   "cell_type": "code",
   "execution_count": null,
   "metadata": {},
   "outputs": [],
   "source": []
  }
 ],
 "metadata": {
  "language_info": {
   "name": "python"
  }
 },
 "nbformat": 4,
 "nbformat_minor": 2
}
